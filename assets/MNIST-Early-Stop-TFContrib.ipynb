{
 "cells": [
  {
   "cell_type": "code",
   "execution_count": 1,
   "metadata": {
    "collapsed": false
   },
   "outputs": [
    {
     "name": "stdout",
     "output_type": "stream",
     "text": [
      "hdf5 not supported (please install/reinstall h5py)\n"
     ]
    }
   ],
   "source": [
    "from __future__ import division, print_function, absolute_import\n",
    "\n",
    "import os\n",
    "import sys\n",
    "import tempfile\n",
    "import urllib\n",
    "import collections\n",
    "import math\n",
    "\n",
    "import numpy as np\n",
    "import tensorflow as tf\n",
    "from scipy.io import arff\n",
    "\n",
    "import tflearn\n",
    "from sklearn.utils import shuffle\n",
    "from sklearn.metrics import roc_auc_score\n",
    "from tflearn.data_utils import shuffle, to_categorical\n",
    "from tflearn.layers.core import input_data, dropout, fully_connected\n",
    "from tflearn.layers.conv import conv_2d, max_pool_2d\n",
    "from tflearn.layers.normalization import local_response_normalization, batch_normalization\n",
    "from tflearn.layers.estimator import regression\n",
    "import tflearn.datasets.mnist as mnist"
   ]
  },
  {
   "cell_type": "code",
   "execution_count": 2,
   "metadata": {
    "collapsed": false
   },
   "outputs": [
    {
     "name": "stdout",
     "output_type": "stream",
     "text": [
      "Extracting mnist/train-images-idx3-ubyte.gz\n",
      "Extracting mnist/train-labels-idx1-ubyte.gz\n",
      "Extracting mnist/t10k-images-idx3-ubyte.gz\n",
      "Extracting mnist/t10k-labels-idx1-ubyte.gz\n"
     ]
    }
   ],
   "source": [
    "X, Y, testX, testY = mnist.load_data(one_hot=True)\n",
    "X, Y  = shuffle(X, Y)\n",
    "X     = X.reshape([-1, 28, 28, 1])\n",
    "testX = testX.reshape([-1, 28, 28, 1])"
   ]
  },
  {
   "cell_type": "code",
   "execution_count": 3,
   "metadata": {
    "collapsed": true
   },
   "outputs": [],
   "source": [
    "out_readin1          = input_data(shape=[None,28,28,1])\n",
    "out_fully_connected2 = fully_connected(out_readin1, 10)\n",
    "out_softmax3         = fully_connected(out_fully_connected2, 10, activation='softmax')\n",
    "\n",
    "hash='f0c188c3777519fb93f1a825ca758a0c'\n",
    "scriptid='MNIST-f0c188c3777519fb93f1a825ca758a0c'\n",
    "\n",
    "network = regression(out_softmax3, \n",
    "                     optimizer='adam', \n",
    "                     learning_rate=0.01, \n",
    "                     loss='categorical_crossentropy', \n",
    "                     name='target')\n",
    "\n",
    "#model = tflearn.DNN(network, tensorboard_verbose=3)"
   ]
  },
  {
   "cell_type": "code",
   "execution_count": null,
   "metadata": {
    "collapsed": false,
    "scrolled": true
   },
   "outputs": [],
   "source": [
    "model.fit(X, Y, \n",
    "          n_epoch=1, \n",
    "          validation_set=(testX, testY), \n",
    "          snapshot_step=10, \n",
    "          snapshot_epoch=False, \n",
    "          show_metric=True, \n",
    "          run_id=scriptid)\n",
    "\n",
    "\n",
    "prediction = model.predict(testX)\n",
    "auc=roc_auc_score(testY, prediction, average='macro', sample_weight=None)\n",
    "accuracy=model.evaluate(testX,testY)\n",
    "\n",
    "print(\"Accuracy:\", accuracy)\n",
    "print(\"ROC AUC Score:\", auc)"
   ]
  },
  {
   "cell_type": "markdown",
   "metadata": {},
   "source": [
    "# Now Trying with TFLearn\n",
    "\n",
    "**Issue**: I can't seem to figure this out for the life of me, but for some reason training_state never has a non-none value for val_acc, and essentially most other evaluation metrics. I'm assuming this is because I need to explicitly tell TFLearn to store them every n iterations, but the documentation suggests that the default behavior is to store these basic values. "
   ]
  },
  {
   "cell_type": "code",
   "execution_count": null,
   "metadata": {
    "collapsed": false
   },
   "outputs": [
    {
     "name": "stdout",
     "output_type": "stream",
     "text": [
      "Training Step: 313  | total loss: \u001b[1m\u001b[32m0.34588\u001b[0m\u001b[0m\n",
      "| Adam | epoch: 001 | loss: 0.34588 | val_loss: 0.34831 -- iter: 20000/20000\n",
      "Training Step: 313  | total loss: \u001b[1m\u001b[32m0.34588\u001b[0m\u001b[0m\n",
      "| Adam | epoch: 001 | loss: 0.34588 | val_loss: 0.34831 -- iter: 20000/20000\n",
      "--\n",
      "> <ipython-input-4-62e7ee0640e6>(11)on_epoch_end()\n",
      "-> if training_state.val_acc is None: return\n",
      "(Pdb) training_state.val_acc\n",
      "(Pdb) training_state.global_acc\n",
      "(Pdb) training_state.acc_value\n",
      "(Pdb) training_state.loss_value\n",
      "0.34587910771369934\n"
     ]
    }
   ],
   "source": [
    "import pdb\n",
    "class EarlyStoppingCallback(tflearn.callbacks.Callback):\n",
    "    def __init__(self, val_acc_thresh):\n",
    "        \"\"\" Note: We are free to define our init function however we please. \"\"\"\n",
    "        self.val_acc_thresh = val_acc_thresh\n",
    "    \n",
    "    def on_epoch_end(self, training_state):\n",
    "        \"\"\" \"\"\"\n",
    "        # Apparently this can happen.\n",
    "        pdb.set_trace()\n",
    "        if training_state.val_acc is None: return\n",
    "        if training_state.val_acc > self.val_acc_thresh:\n",
    "            raise StopIteration\n",
    "            \n",
    "    def on_batch_end(self, training_state, snapshot=False):\n",
    "        \"\"\" \"\"\"\n",
    "        # Apparently this can happen.\n",
    "        if training_state.val_acc is None: return\n",
    "        if training_state.val_acc > self.val_acc_thresh:\n",
    "            raise StopIteration\n",
    "            \n",
    "            \n",
    "# Initializae our callback.\n",
    "early_stopping_cb = EarlyStoppingCallback(val_acc_thresh=0.5)\n",
    "\n",
    "model = tflearn.DNN(network, tensorboard_verbose=1)\n",
    "# Give it to our trainer and let it fit the data. \n",
    "model.fit(X[:20000], Y[:20000], \n",
    "          n_epoch=3, \n",
    "          validation_set=(testX, testY), \n",
    "          snapshot_epoch=True, \n",
    "          #show_metric=True, \n",
    "          callbacks=early_stopping_cb)"
   ]
  },
  {
   "cell_type": "code",
   "execution_count": null,
   "metadata": {
    "collapsed": true
   },
   "outputs": [],
   "source": []
  }
 ],
 "metadata": {
  "kernelspec": {
   "display_name": "Python 3",
   "language": "python",
   "name": "python3"
  },
  "language_info": {
   "codemirror_mode": {
    "name": "ipython",
    "version": 3
   },
   "file_extension": ".py",
   "mimetype": "text/x-python",
   "name": "python",
   "nbconvert_exporter": "python",
   "pygments_lexer": "ipython3",
   "version": "3.5.2"
  }
 },
 "nbformat": 4,
 "nbformat_minor": 1
}
