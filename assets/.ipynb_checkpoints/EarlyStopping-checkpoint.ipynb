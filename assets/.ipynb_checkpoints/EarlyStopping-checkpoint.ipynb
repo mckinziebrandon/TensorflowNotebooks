{
 "cells": [
  {
   "cell_type": "code",
   "execution_count": 1,
   "metadata": {
    "collapsed": false
   },
   "outputs": [
    {
     "name": "stdout",
     "output_type": "stream",
     "text": [
      "hdf5 not supported (please install/reinstall h5py)\n",
      "Extracting mnist/train-images-idx3-ubyte.gz\n",
      "Extracting mnist/train-labels-idx1-ubyte.gz\n",
      "Extracting mnist/t10k-images-idx3-ubyte.gz\n",
      "Extracting mnist/t10k-labels-idx1-ubyte.gz\n"
     ]
    }
   ],
   "source": [
    "import tensorflow as tf\n",
    "import tflearn\n",
    "import tflearn.datasets.mnist as mnist\n",
    "\n",
    "trainX, trainY, testX, testY = mnist.load_data(one_hot=True)"
   ]
  },
  {
   "cell_type": "code",
   "execution_count": 4,
   "metadata": {
    "collapsed": true
   },
   "outputs": [],
   "source": [
    "n_features = 784\n",
    "n_hidden = 256\n",
    "n_classes = 10\n",
    "\n",
    "# Define the inputs/outputs/weights as usual.\n",
    "X = tf.placeholder(\"float\", [None, n_features])\n",
    "Y = tf.placeholder(\"float\", [None, n_classes])\n",
    "\n",
    "# Define the connections/weights and biases between layers.\n",
    "W1 = tf.Variable(tf.random_normal([n_features, n_hidden]), name='W1')\n",
    "W2 = tf.Variable(tf.random_normal([n_hidden, n_hidden]), name='W2')\n",
    "W3 = tf.Variable(tf.random_normal([n_hidden, n_classes]), name='W3')\n",
    "\n",
    "b1 = tf.Variable(tf.random_normal([n_hidden]), name='b1')\n",
    "b2 = tf.Variable(tf.random_normal([n_hidden]), name='b2')\n",
    "b3 = tf.Variable(tf.random_normal([n_classes]), name='b3')\n",
    "\n",
    "# Define the operations throughout the network.\n",
    "net = tf.tanh(tf.add(tf.matmul(X, W1), b1))\n",
    "net = tf.tanh(tf.add(tf.matmul(net, W2), b2))\n",
    "net = tf.add(tf.matmul(net, W3), b3)\n",
    "\n",
    "# Define the optimization problem.\n",
    "loss      = tf.reduce_mean(tf.nn.softmax_cross_entropy_with_logits(net, Y))\n",
    "optimizer = tf.train.GradientDescentOptimizer(learning_rate=0.1)\n",
    "accuracy  = tf.reduce_mean(tf.cast(\n",
    "        tf.equal(tf.argmax(net, 1), tf.argmax(Y, 1) ), tf.float32), name='acc')"
   ]
  },
  {
   "cell_type": "markdown",
   "metadata": {},
   "source": [
    "# Early Stopping\n",
    "\n",
    "## Training Setup\n",
    "\n",
    "In tflearn, we can train our model with a [tflearn.Trainer](http://tflearn.org/helpers/trainer/ \"Documentation\") object: \"Generic class to handle any TensorFlow graph training. It requires the use of TrainOp to specify all optimization parameters.\"\n",
    "\n",
    "* [TrainOp](http://tflearn.org/helpers/trainer/#trainop) represents a set of operation used for optimizing a network.\n",
    "\n",
    "* __Example__: Time to initialize our trainer to work with our MNIST network. Below we create a TrainOp object that is then used for the purpose of telling our trainer \n",
    "    1. Our loss function. (softmax cross entropy with logits)\n",
    "    2. Our optimizer. (GradientDescentOptimizer)\n",
    "    3. Our evaluation [tensor] metric. (classification accuracy)  "
   ]
  },
  {
   "cell_type": "code",
   "execution_count": 7,
   "metadata": {
    "collapsed": true
   },
   "outputs": [],
   "source": [
    "trainop = tflearn.TrainOp(loss=loss, optimizer=optimizer, metric=accuracy, batch_size=128)\n",
    "trainer = tflearn.Trainer(train_ops=trainop, tensorboard_verbose=1)"
   ]
  },
  {
   "cell_type": "markdown",
   "metadata": {},
   "source": [
    "## Callbacks\n",
    "\n",
    "The [Callbacks](http://tflearn.org/getting_started/#training-callbacks) interface describes a set of methods that we can implement ourselves that will be called during runtime. Below are our options, where here we will be primarily concerned with the on_epoch_end() method.\n",
    "* __ Methods __ :\n",
    "\n",
    "```python\n",
    "    def on_train_begin(self, training_state):\n",
    "    def on_epoch_begin(self, training_state):\n",
    "    def on_batch_begin(self, training_state):\n",
    "    def on_sub_batch_begin(self, training_state):\n",
    "    def on_sub_batch_end(self, training_state, train_index=0):\n",
    "    def on_batch_end(self, training_state, snapshot=False):\n",
    "    def on_epoch_end(self, training_state):\n",
    "    def on_train_end(self, training_state):\n",
    "```\n",
    "\n",
    "* __TrainingState__: Notice that each method requires us to pass a [training_state](https://github.com/tflearn/tflearn/blob/master/tflearn/helpers/trainer.py#L971) object as an argument. These useful helpers will be able to provide us with the information we need to determine when to stop training. Below is a list of the instance variables we can access with a training_state object:\n",
    "    * self.epoch\n",
    "    * self.step\n",
    "    * self.current_iter \n",
    "    * self.acc_value \n",
    "    * self.loss_value\n",
    "    * self.val_acc\n",
    "    * self.val_loss\n",
    "    * self.best_accuracy\n",
    "    * self.global_acc\n",
    "    * self.global_loss\n",
    "    \n",
    "* __Implementing our Callback__: Let's say we want to stop training when the validation accuracy reaches a certain threshold. Below, we implement the code required to define such a callback and fit the MNIST data. "
   ]
  },
  {
   "cell_type": "code",
   "execution_count": 11,
   "metadata": {
    "collapsed": true
   },
   "outputs": [],
   "source": [
    "class EarlyStoppingCallback(tflearn.callbacks.Callback):\n",
    "    def __init__(self, val_acc_thresh):\n",
    "        \"\"\" Note: We are free to define our init function however we please. \"\"\"\n",
    "        self.val_acc_thresh = val_acc_thresh\n",
    "    \n",
    "    def on_epoch_end(self, training_state):\n",
    "        \"\"\" \"\"\"\n",
    "        # Apparently this can happen.\n",
    "        if training_state.val_acc is None: return\n",
    "        if training_state.val_acc > self.val_acc_thresh:\n",
    "            raise StopIteration"
   ]
  },
  {
   "cell_type": "code",
   "execution_count": 12,
   "metadata": {
    "collapsed": false
   },
   "outputs": [
    {
     "name": "stdout",
     "output_type": "stream",
     "text": [
      "Training Step: 1720  | total loss: \u001b[1m\u001b[32m0.81290\u001b[0m\u001b[0m\n",
      "\u001b[2K\r",
      "| Optimizer | epoch: 004 | loss: 0.81290 - acc_2: 0.8854 -- iter: 55000/55000\n"
     ]
    }
   ],
   "source": [
    "# Initializae our callback.\n",
    "early_stopping_cb = EarlyStoppingCallback(val_acc_thresh=0.5)\n",
    "# Give it to our trainer and let it fit the data. \n",
    "trainer.fit(feed_dicts={X: trainX, Y: trainY}, \n",
    "            val_feed_dicts={X: testX, Y: testY}, \n",
    "            n_epoch=2, \n",
    "            show_metric=True, # Calculate accuracy and display at every step.\n",
    "            snapshot_epoch=False,\n",
    "            callbacks=early_stopping_cb)"
   ]
  },
  {
   "cell_type": "markdown",
   "metadata": {},
   "source": [
    "# Using tf.contrib.learn instead\n",
    "\n",
    "## Iris data loading/tutorial prep\n",
    "\n",
    "Note: can also load via:\n",
    "```python\n",
    "import csv\n",
    "import random\n",
    "import numpy as np\n",
    "from sklearn import datasets\n",
    "from sklearn.cross_validation import train_test_split\n",
    "\n",
    "X_train, X_test, y_train, y_test = train_test_split(iris.data, iris.target, test_size=0.33, random_state=42)\n",
    "iris = datasets.load_iris()\n",
    "print(iris.data.shape)\n",
    "print(\"Xt\", X_train.shape, \"Yt\", y_train.shape)\n",
    "```"
   ]
  },
  {
   "cell_type": "code",
   "execution_count": 51,
   "metadata": {
    "collapsed": false,
    "scrolled": true
   },
   "outputs": [
    {
     "name": "stdout",
     "output_type": "stream",
     "text": [
      "Accuracy: 0.980000\n",
      "Predictions: [1 1]\n"
     ]
    }
   ],
   "source": [
    "from __future__ import absolute_import\n",
    "from __future__ import division\n",
    "from __future__ import print_function\n",
    "\n",
    "# Suppress the massive amount of warnings.\n",
    "tf.logging.set_verbosity(tf.logging.ERROR)\n",
    "\n",
    "# Data sets\n",
    "IRIS_TRAINING = \"iris_training.csv\"\n",
    "IRIS_TEST = \"iris_test.csv\"\n",
    "\n",
    "# Load datasets.\n",
    "training_set = tf.contrib.learn.datasets.base.load_csv_with_header(filename=IRIS_TRAINING,\n",
    "                                                       target_dtype=np.int, \n",
    "                                                        features_dtype=np.float32)\n",
    "test_set = tf.contrib.learn.datasets.base.load_csv_with_header(filename=IRIS_TEST,\n",
    "                                                   target_dtype=np.int, \n",
    "                                                    features_dtype=np.float32)\n",
    "\n",
    "# Specify that all features have real-value data\n",
    "feature_columns = [tf.contrib.layers.real_valued_column(\"\", dimension=4)]\n",
    "\n",
    "# Build 3 layer DNN with 10, 20, 10 units respectively.\n",
    "classifier = tf.contrib.learn.DNNClassifier(feature_columns=feature_columns,\n",
    "                                            hidden_units=[10, 20, 10],\n",
    "                                            n_classes=3,\n",
    "                                            model_dir=\"/tmp/iris_model\")\n",
    "\n",
    "# Fit model.\n",
    "classifier.fit(x=X_train,\n",
    "               y=y_train,\n",
    "               steps=2000)\n",
    "\n",
    "# Evaluate accuracy.\n",
    "accuracy_score = classifier.evaluate(x=X_test, y=y_test)[\"accuracy\"]\n",
    "print('Accuracy: {0:f}'.format(accuracy_score))\n",
    "\n",
    "# Classify two new flower samples.\n",
    "new_samples = np.array([[6.4, 3.2, 4.5, 1.5], [5.8, 3.1, 5.0, 1.7]], dtype=np.float32)\n",
    "\n",
    "y = classifier.predict(new_samples)\n",
    "print('Predictions: {}'.format(str(y)))"
   ]
  },
  {
   "cell_type": "markdown",
   "metadata": {},
   "source": [
    "## Validation Monitors"
   ]
  },
  {
   "cell_type": "code",
   "execution_count": 57,
   "metadata": {
    "collapsed": false,
    "scrolled": true
   },
   "outputs": [
    {
     "data": {
      "text/plain": [
       "Estimator(params={'dropout': None, 'hidden_units': [10, 20, 10], 'weight_column_name': None, 'feature_columns': [_RealValuedColumn(column_name='', dimension=4, default_value=None, dtype=tf.float32, normalizer=None)], 'optimizer': 'Adagrad', 'n_classes': 3, 'activation_fn': <function relu at 0x7f8568caa598>, 'num_ps_replicas': 0, 'gradient_clip_norm': None, 'enable_centered_bias': True})"
      ]
     },
     "execution_count": 57,
     "metadata": {},
     "output_type": "execute_result"
    }
   ],
   "source": [
    "# Vanilla version\n",
    "validation_monitor = tf.contrib.learn.monitors.ValidationMonitor(test_set.data,\n",
    "                                                                 test_set.target,\n",
    "                                                                 every_n_steps=50)\n",
    "\n",
    "classifier = tf.contrib.learn.DNNClassifier(feature_columns=feature_columns,\n",
    "                                            hidden_units=[10, 20, 10],\n",
    "                                            n_classes=3,\n",
    "                                            model_dir=\"/tmp/iris_model\",\n",
    "                                            config=tf.contrib.learn.RunConfig(\n",
    "                                                save_checkpoints_secs=1))\n",
    "\n",
    "classifier.fit(x=training_set.data,\n",
    "               y=training_set.target,\n",
    "               steps=2000,\n",
    "               monitors=[validation_monitor])"
   ]
  },
  {
   "cell_type": "markdown",
   "metadata": {},
   "source": [
    "## Customizing the Evaluation Metrics and Stopping Early\n",
    "\n",
    "If we run the code below, it stops early! Warning: You're going to see a lot of WARNING print outputs from tf. I guess this tutorial is a bit out of date. But that's not what we care abot here, we just want that early stopping! The important output to notice is\n",
    "\n",
    "```python\n",
    "INFO:tensorflow:Validation (step 22556): accuracy = 0.966667, global_step = 22535, loss = 0.2767\n",
    "INFO:tensorflow:Stopping. Best step: 22356 with loss = 0.2758353650569916.\n",
    "```"
   ]
  },
  {
   "cell_type": "code",
   "execution_count": 62,
   "metadata": {
    "collapsed": false
   },
   "outputs": [
    {
     "data": {
      "text/plain": [
       "Estimator(params={'dropout': None, 'hidden_units': [10, 20, 10], 'weight_column_name': None, 'feature_columns': [_RealValuedColumn(column_name='', dimension=4, default_value=None, dtype=tf.float32, normalizer=None)], 'optimizer': 'Adagrad', 'n_classes': 3, 'activation_fn': <function relu at 0x7f8568caa598>, 'num_ps_replicas': 0, 'gradient_clip_norm': None, 'enable_centered_bias': True})"
      ]
     },
     "execution_count": 62,
     "metadata": {},
     "output_type": "execute_result"
    }
   ],
   "source": [
    "validation_metrics = {\"accuracy\": tf.contrib.metrics.streaming_accuracy,\n",
    "                      \"precision\": tf.contrib.metrics.streaming_precision,\n",
    "                      \"recall\": tf.contrib.metrics.streaming_recall}\n",
    "\n",
    "validation_monitor = tf.contrib.learn.monitors.ValidationMonitor(\n",
    "    test_set.data,\n",
    "    test_set.target,\n",
    "    every_n_steps=50,\n",
    "    #metrics=validation_metrics,\n",
    "    early_stopping_metric='loss',\n",
    "    early_stopping_metric_minimize=True,\n",
    "    early_stopping_rounds=200)\n",
    "\n",
    "tf.logging.set_verbosity(tf.logging.ERROR)\n",
    "classifier.fit(x=training_set.data,\n",
    "               y=training_set.target,\n",
    "               steps=2000,\n",
    "               monitors=[validation_monitor])"
   ]
  }
 ],
 "metadata": {
  "kernelspec": {
   "display_name": "Python 3",
   "language": "python",
   "name": "python3"
  },
  "language_info": {
   "codemirror_mode": {
    "name": "ipython",
    "version": 3
   },
   "file_extension": ".py",
   "mimetype": "text/x-python",
   "name": "python",
   "nbconvert_exporter": "python",
   "pygments_lexer": "ipython3",
   "version": "3.5.2"
  }
 },
 "nbformat": 4,
 "nbformat_minor": 1
}
