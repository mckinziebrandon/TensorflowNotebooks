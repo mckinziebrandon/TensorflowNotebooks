{
 "cells": [
  {
   "cell_type": "code",
   "execution_count": null,
   "metadata": {
    "collapsed": false
   },
   "outputs": [],
   "source": [
    "import numpy as np\n",
    "import tensorflow as tf"
   ]
  },
  {
   "cell_type": "markdown",
   "metadata": {
    "collapsed": true
   },
   "source": [
    "# Hello World\n",
    "* Based on [this tutorial](https://github.com/aymericdamien/TensorFlow-Examples/blob/master/notebooks/1_Introduction/helloworld.ipynb \"I'm watching you\")"
   ]
  },
  {
   "cell_type": "code",
   "execution_count": null,
   "metadata": {
    "collapsed": false
   },
   "outputs": [],
   "source": [
    "hello = tf.constant('Hello, Tensorflow.') # Create a constant op, added as node to default graph.\n",
    "sess = tf.Session()                       # Start tensorflow session.\n",
    "print sess.run(hello)                     # Run graph."
   ]
  },
  {
   "cell_type": "markdown",
   "metadata": {},
   "source": [
    "# Basic Operations\n",
    "\n",
    "* Based on [this tutorial](https://github.com/aymericdamien/TensorFlow-Examples/blob/master/notebooks/1_Introduction/basic_operations.ipynb \"Still watching\")\n",
    "* __Constants__: Directly perform arithmetic with tf.constants within sess.run().\n",
    "* __Variables__: (i.e. tf.placeholder) need to provide feed_dict of values. \n",
    "* __Matrix Multiplication__: Here, define matrices as constants, and pass to tf.matmul.\n",
    "    * No feed_dict necessary."
   ]
  },
  {
   "cell_type": "code",
   "execution_count": null,
   "metadata": {
    "collapsed": false
   },
   "outputs": [],
   "source": [
    "# Actual numerical values used in the examples below.\n",
    "_a, _b = 2, 3\n",
    "_matrix1, _matrix2 = [[3., 3.]], [[2.], [2.]]\n",
    "\n",
    "# __________ Example: tf.constant ____________\n",
    "a = tf.constant(_a)\n",
    "b = tf.constant(_b)\n",
    "with tf.Session() as sess:\n",
    "    print \"a, b = ({0}, {1})\".format(_a, _b)\n",
    "    print \"Addition with constants: a + b = %i \" % sess.run(a + b)\n",
    "    print \"Multiplication with constants: a * b = %i \" % sess.run(a * b)\n",
    "\n",
    "# __________ Example: tf.placeholder ____________\n",
    "a     = tf.placeholder(tf.int16)\n",
    "b     = tf.placeholder(tf.int16)\n",
    "add   = tf.add(a, b)\n",
    "mult  = tf.mul(a, b)\n",
    "with tf.Session() as sess:\n",
    "    feed_dict = {a: _a, b: _b}\n",
    "    print \"\n",
    "In [ ]:\n",
    "Addition with constants: a + b = %i \" % sess.run(add, feed_dict)\n",
    "    print \"Multiplication with constants: a * b = %i \" % sess.run(mult, feed_dict)\n",
    "\n",
    "# __________ Example: tf.matmul ____________\n",
    "matrix1     = tf.constant(_matrix1)\n",
    "matrix2     = tf.constant(_matrix2)\n",
    "matrix_product = tf.matmul(matrix1, matrix2)\n",
    "with tf.Session() as sess:\n",
    "    print \"Matrix multiply 1x2 * 2x1 matrices: {0}\".format(sess.run(matrix_product))"
   ]
  },
  {
   "cell_type": "markdown",
   "metadata": {},
   "source": [
    "# Nearest-Neighbors on MNIST\n",
    "\n",
    "* Based on [this tutorial](https://github.com/aymericdamien/TensorFlow-Examples/blob/master/notebooks/2_BasicModels/nearest_neighbor.ipynb \"Hi\")"
   ]
  },
  {
   "cell_type": "code",
   "execution_count": null,
   "metadata": {
    "collapsed": false
   },
   "outputs": [],
   "source": [
    "from tensorflow.examples.tutorials.mnist import input_data\n",
    "mnist = input_data.read_data_sets(\"/tmp/data/\", one_hot=True)"
   ]
  },
  {
   "cell_type": "code",
   "execution_count": null,
   "metadata": {
    "collapsed": false
   },
   "outputs": [],
   "source": [
    "_Xtrain, _Ytrain = mnist.train.next_batch(500)\n",
    "_Xtest, _Ytest   = mnist.test.next_batch(200)\n",
    "d = _Xtrain.shape[1]\n",
    "\n",
    "# Graph input.\n",
    "Xtrain = tf.placeholder(\"float\", [None, d]) # I think 'None' here means it can be whatever. \n",
    "Xtest = tf.placeholder(\"float\", [d])\n",
    "\n",
    "# L1 distance between Xtrain and Xtest (why?)\n",
    "difference = tf.add(Xtrain, tf.neg(Xtest))\n",
    "L1_dist    = tf.reduce_sum(tf.abs(difference), reduction_indices=1)\n",
    "\n",
    "# Prediction : get nearest neighbor. \n",
    "pred = tf.arg_min(L1_dist, 0)\n",
    "\n",
    "accuracy = 0.\n",
    "init = tf.initialize_all_variables() # TODO: Forgot what this does...\n",
    "\n",
    "with tf.Session() as sess:\n",
    "    sess.run(init)\n",
    "    for i in range(len(_Xtest)):\n",
    "        feed_dict = {Xtrain: _Xtrain, Xtest: _Xtest[i, :]}\n",
    "        nearest_neighbor_index = sess.run(pred, feed_dict)\n",
    "        \n",
    "        label_train = np.argmax(_Ytrain[nearest_neighbor_index])\n",
    "        label_test  = np.argmax(_Ytest[i])\n",
    "        if label_train == label_test:\n",
    "            accuracy += 1. / len(_Xtest)\n",
    "\n",
    "    print \"Accuracy:\", accuracy"
   ]
  },
  {
   "cell_type": "markdown",
   "metadata": {},
   "source": [
    "# TFLearn - Quick Start"
   ]
  },
  {
   "cell_type": "code",
   "execution_count": null,
   "metadata": {
    "collapsed": false
   },
   "outputs": [],
   "source": [
    "np.info(np.reshape)import numpy as np\n",
    "import tflearn\n",
    "import tensorflow as tf\n",
    "from tflearn.datasets import titanic\n",
    "\n",
    "data = titanic.download_dataset('titanic_dataset.csv')\n",
    "                                        \n",
    "from tflearn.data_utils import load_csv\n",
    "data, labels = load_csv('titanic_dataset.csv', \n",
    "                       target_column=0,\n",
    "                       categorical_labels=True,\n",
    "                       n_classes=2)\n",
    "\n",
    "# ___________ Data Preprocessing ___________\n",
    "\n",
    "def preprocess(data, columns_to_ignore):\n",
    "    \n",
    "    # Sort by descending id and delete columns. \n",
    "    for id in sorted(columns_to_ignore, reverse=True):\n",
    "        [r.pop(id) for r in data] \n",
    "    \n",
    "    for i in range(len(data)):\n",
    "        # Encode male=0, female=1. \n",
    "        data[i][1] = 1. if data[i][1] == 'female' else 0.\n",
    "    return np.array(data, dtype=np.float32)\n",
    "\n",
    "to_ignore = [1, 6]\n",
    "data = preprocess(data, to_ignore)\n",
    "\n",
    "\n",
    "# ___________ Build the DNN ___________\n",
    "# Input --> FC --> FC --> SOFTMAX\n",
    "net = tflearn.input_data(shape=[None, 6])\n",
    "net = tflearn.fully_connected(net, 32)\n",
    "net = tflearn.fully_connected(net, 32)\n",
    "net = tflearn.fully_connected(net, 2, activation='softmax')\n",
    "net = tflearn.regression(net)\n",
    "\n",
    "# __________ Training ____________\n",
    "model = tflearn.DNN(net)\n",
    "model\n"
   ]
  },
  {
   "cell_type": "code",
   "execution_count": 2,
   "metadata": {
    "collapsed": false
   },
   "outputs": [
    {
     "name": "stdout",
     "output_type": "stream",
     "text": [
      "Training Step: 400  | total loss: \u001b[1m\u001b[32m0.81728\u001b[0m\u001b[0m\n",
      "| SGD_0 | epoch: 400 | loss: 0.40857 -- iter: 4/4\n",
      "| SGD_1 | epoch: 400 | loss: 0.40871 -- iter: 4/4\n",
      "Testing XOR operator\n",
      "0 xor 0: [[0.0005703496863134205]]\n",
      "0 xor 1: [[0.9982306957244873]]\n",
      "1 xor 0: [[0.9982070922851562]]\n",
      "1 xor 1: [[0.00094714475562796]]\n"
     ]
    }
   ],
   "source": [
    "\"\"\"\n",
    "Simple Example to train logical operators\n",
    "\"\"\"\n",
    "\n",
    "from __future__ import absolute_import, division, print_function\n",
    "\n",
    "import tensorflow as tf\n",
    "import tflearn\n",
    "\n",
    "'''\n",
    "Going further: Graph combination with multiple optimizers\n",
    "Create a XOR operator using product of NAND and OR operators\n",
    "'''\n",
    "# Data\n",
    "X = [[0., 0.], [0., 1.], [1., 0.], [1., 1.]]\n",
    "Y_nand = [[1.], [1.], [1.], [0.]]\n",
    "Y_or = [[0.], [1.], [1.], [1.]]\n",
    "\n",
    "# Graph definition\n",
    "with tf.Graph().as_default():\n",
    "    \n",
    "    # Building a network with 2 optimizers\n",
    "    g = tflearn.input_data(shape=[None, 2])\n",
    "    # Nand operator definition\n",
    "    g_nand = tflearn.fully_connected(g, 32, activation='linear')\n",
    "    g_nand = tflearn.fully_connected(g_nand, 32, activation='linear')\n",
    "    g_nand = tflearn.fully_connected(g_nand, 1, activation='sigmoid')\n",
    "    g_nand = tflearn.regression(g_nand, optimizer='sgd',\n",
    "                                learning_rate=2.,\n",
    "                                loss='binary_crossentropy')\n",
    "    \n",
    "    # Or operator definition\n",
    "    g_or = tflearn.fully_connected(g, 32, activation='linear')\n",
    "    g_or = tflearn.fully_connected(g_or, 32, activation='linear')\n",
    "    g_or = tflearn.fully_connected(g_or, 1, activation='sigmoid')\n",
    "    g_or = tflearn.regression(g_or, optimizer='sgd',\n",
    "                              learning_rate=2.,\n",
    "                              loss='binary_crossentropy')\n",
    "    \n",
    "    # XOR merging Nand and Or operators\n",
    "    g_xor = tflearn.merge([g_nand, g_or], mode='elemwise_mul')\n",
    "\n",
    "    # Training\n",
    "    m = tflearn.DNN(g_xor)\n",
    "    m.fit(X, [Y_nand, Y_or], n_epoch=400, snapshot_epoch=False)\n",
    "\n",
    "    # Testing\n",
    "    print(\"Testing XOR operator\") \n",
    "    print(\"0 xor 0:\", m.predict([[0., 0.]]))\n",
    "    print(\"0 xor 1:\", m.predict([[0., 1.]]))\n",
    "    print(\"1 xor 0:\", m.predict([[1., 0.]]))\n",
    "    print(\"1 xor 1:\", m.predict([[1., 1.]]))"
   ]
  },
  {
   "cell_type": "markdown",
   "metadata": {
    "collapsed": true
   },
   "source": [
    "# Early Stopping Investigatoin"
   ]
  },
  {
   "cell_type": "code",
   "execution_count": 6,
   "metadata": {
    "collapsed": false
   },
   "outputs": [
    {
     "data": {
      "text/html": [
       "<div>\n",
       "<table border=\"1\" class=\"dataframe\">\n",
       "  <thead>\n",
       "    <tr style=\"text-align: right;\">\n",
       "      <th></th>\n",
       "      <th>sepal_length</th>\n",
       "      <th>sepal_width</th>\n",
       "      <th>petal_length</th>\n",
       "      <th>petal_width</th>\n",
       "      <th>species</th>\n",
       "    </tr>\n",
       "  </thead>\n",
       "  <tbody>\n",
       "    <tr>\n",
       "      <th>0</th>\n",
       "      <td>5.1</td>\n",
       "      <td>3.5</td>\n",
       "      <td>1.4</td>\n",
       "      <td>0.2</td>\n",
       "      <td>setosa</td>\n",
       "    </tr>\n",
       "    <tr>\n",
       "      <th>1</th>\n",
       "      <td>4.9</td>\n",
       "      <td>3.0</td>\n",
       "      <td>1.4</td>\n",
       "      <td>0.2</td>\n",
       "      <td>setosa</td>\n",
       "    </tr>\n",
       "    <tr>\n",
       "      <th>2</th>\n",
       "      <td>4.7</td>\n",
       "      <td>3.2</td>\n",
       "      <td>1.3</td>\n",
       "      <td>0.2</td>\n",
       "      <td>setosa</td>\n",
       "    </tr>\n",
       "    <tr>\n",
       "      <th>3</th>\n",
       "      <td>4.6</td>\n",
       "      <td>3.1</td>\n",
       "      <td>1.5</td>\n",
       "      <td>0.2</td>\n",
       "      <td>setosa</td>\n",
       "    </tr>\n",
       "    <tr>\n",
       "      <th>4</th>\n",
       "      <td>5.0</td>\n",
       "      <td>3.6</td>\n",
       "      <td>1.4</td>\n",
       "      <td>0.2</td>\n",
       "      <td>setosa</td>\n",
       "    </tr>\n",
       "  </tbody>\n",
       "</table>\n",
       "</div>"
      ],
      "text/plain": [
       "   sepal_length  sepal_width  petal_length  petal_width species\n",
       "0           5.1          3.5           1.4          0.2  setosa\n",
       "1           4.9          3.0           1.4          0.2  setosa\n",
       "2           4.7          3.2           1.3          0.2  setosa\n",
       "3           4.6          3.1           1.5          0.2  setosa\n",
       "4           5.0          3.6           1.4          0.2  setosa"
      ]
     },
     "execution_count": 6,
     "metadata": {},
     "output_type": "execute_result"
    }
   ],
   "source": [
    "import csv\n",
    "import tensorflow as tf\n",
    "import random\n",
    "import pandas as pd\n",
    "import numpy as np\n",
    "import matplotlib.pyplot as plt\n",
    "\n",
    "%matplotlib inline\n",
    "ipd = pd.read_csv('iris.csv')\n",
    "ipd.head()"
   ]
  },
  {
   "cell_type": "code",
   "execution_count": null,
   "metadata": {
    "collapsed": true
   },
   "outputs": [],
   "source": []
  }
 ],
 "metadata": {
  "kernelspec": {
   "display_name": "Python 3",
   "language": "python",
   "name": "python3"
  },
  "language_info": {
   "codemirror_mode": {
    "name": "ipython",
    "version": 3
   },
   "file_extension": ".py",
   "mimetype": "text/x-python",
   "name": "python",
   "nbconvert_exporter": "python",
   "pygments_lexer": "ipython3",
   "version": "3.5.2"
  }
 },
 "nbformat": 4,
 "nbformat_minor": 1
}
