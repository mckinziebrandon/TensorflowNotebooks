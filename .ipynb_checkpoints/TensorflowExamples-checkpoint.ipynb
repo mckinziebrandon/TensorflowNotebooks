{
 "cells": [
  {
   "cell_type": "code",
   "execution_count": 1,
   "metadata": {
    "collapsed": false
   },
   "outputs": [],
   "source": [
    "import numpy as np\n",
    "import tensorflow as tf"
   ]
  },
  {
   "cell_type": "markdown",
   "metadata": {
    "collapsed": true
   },
   "source": [
    "# Hello World\n",
    "* Based on [this tutorial](https://github.com/aymericdamien/TensorFlow-Examples/blob/master/notebooks/1_Introduction/helloworld.ipynb \"I'm watching you\")"
   ]
  },
  {
   "cell_type": "code",
   "execution_count": 2,
   "metadata": {
    "collapsed": false
   },
   "outputs": [
    {
     "name": "stdout",
     "output_type": "stream",
     "text": [
      "Hello, Tensorflow.\n"
     ]
    }
   ],
   "source": [
    "hello = tf.constant('Hello, Tensorflow.') # Create a constant op, added as node to default graph.\n",
    "sess = tf.Session()                       # Start tensorflow session.\n",
    "print sess.run(hello)                     # Run graph."
   ]
  },
  {
   "cell_type": "markdown",
   "metadata": {},
   "source": [
    "# Basic Operations\n",
    "\n",
    "* Based on [this tutorial](https://github.com/aymericdamien/TensorFlow-Examples/blob/master/notebooks/1_Introduction/basic_operations.ipynb \"Still watching\")\n",
    "* __Constants__: Directly perform arithmetic with tf.constants within sess.run().\n",
    "* __Variables__: (i.e. tf.placeholder) need to provide feed_dict of values. \n",
    "* __Matrix Multiplication__: Here, define matrices as constants, and pass to tf.matmul.\n",
    "    * No feed_dict necessary."
   ]
  },
  {
   "cell_type": "code",
   "execution_count": 8,
   "metadata": {
    "collapsed": false
   },
   "outputs": [
    {
     "name": "stdout",
     "output_type": "stream",
     "text": [
      "a, b = (2, 3)\n",
      "Addition with constants: a + b = 5 \n",
      "Multiplication with constants: a * b = 6 \n",
      "Addition with constants: a + b = 5 \n",
      "Multiplication with constants: a * b = 6 \n",
      "Matrix multiply 1x2 * 2x1 matrices: [[ 12.]]\n"
     ]
    }
   ],
   "source": [
    "# Actual numerical values used in the examples below.\n",
    "_a, _b = 2, 3\n",
    "_matrix1, _matrix2 = [[3., 3.]], [[2.], [2.]]\n",
    "\n",
    "# __________ Example: tf.constant ____________\n",
    "a = tf.constant(_a)\n",
    "b = tf.constant(_b)\n",
    "with tf.Session() as sess:\n",
    "    print \"a, b = ({0}, {1})\".format(_a, _b)\n",
    "    print \"Addition with constants: a + b = %i \" % sess.run(a + b)\n",
    "    print \"Multiplication with constants: a * b = %i \" % sess.run(a * b)\n",
    "\n",
    "# __________ Example: tf.placeholder ____________\n",
    "a     = tf.placeholder(tf.int16)\n",
    "b     = tf.placeholder(tf.int16)\n",
    "add   = tf.add(a, b)\n",
    "mult  = tf.mul(a, b)\n",
    "with tf.Session() as sess:\n",
    "    feed_dict = {a: _a, b: _b}\n",
    "    print \"\n",
    "In [ ]:\n",
    "Addition with constants: a + b = %i \" % sess.run(add, feed_dict)\n",
    "    print \"Multiplication with constants: a * b = %i \" % sess.run(mult, feed_dict)\n",
    "\n",
    "# __________ Example: tf.matmul ____________\n",
    "matrix1     = tf.constant(_matrix1)\n",
    "matrix2     = tf.constant(_matrix2)\n",
    "matrix_product = tf.matmul(matrix1, matrix2)\n",
    "with tf.Session() as sess:\n",
    "    print \"Matrix multiply 1x2 * 2x1 matrices: {0}\".format(sess.run(matrix_product))"
   ]
  },
  {
   "cell_type": "markdown",
   "metadata": {},
   "source": [
    "# Nearest-Neighbors on MNIST\n",
    "\n",
    "* Based on [this tutorial](https://github.com/aymericdamien/TensorFlow-Examples/blob/master/notebooks/2_BasicModels/nearest_neighbor.ipynb \"Hi\")"
   ]
  },
  {
   "cell_type": "code",
   "execution_count": 12,
   "metadata": {
    "collapsed": false
   },
   "outputs": [
    {
     "name": "stdout",
     "output_type": "stream",
     "text": [
      "Extracting /tmp/data/train-images-idx3-ubyte.gz\n",
      "Extracting /tmp/data/train-labels-idx1-ubyte.gz\n",
      "Extracting /tmp/data/t10k-images-idx3-ubyte.gz\n",
      "Extracting /tmp/data/t10k-labels-idx1-ubyte.gz\n"
     ]
    }
   ],
   "source": [
    "from tensorflow.examples.tutorials.mnist import input_data\n",
    "mnist = input_data.read_data_sets(\"/tmp/data/\", one_hot=True)"
   ]
  },
  {
   "cell_type": "code",
   "execution_count": 24,
   "metadata": {
    "collapsed": false
   },
   "outputs": [
    {
     "name": "stdout",
     "output_type": "stream",
     "text": [
      "Accuracy: 0.715\n"
     ]
    }
   ],
   "source": [
    "_Xtrain, _Ytrain = mnist.train.next_batch(500)\n",
    "_Xtest, _Ytest   = mnist.test.next_batch(200)\n",
    "d = _Xtrain.shape[1]\n",
    "\n",
    "# Graph input.\n",
    "Xtrain = tf.placeholder(\"float\", [None, d]) # I think 'None' here means it can be whatever. \n",
    "Xtest = tf.placeholder(\"float\", [d])\n",
    "\n",
    "# L1 distance between Xtrain and Xtest (why?)\n",
    "difference = tf.add(Xtrain, tf.neg(Xtest))\n",
    "L1_dist    = tf.reduce_sum(tf.abs(difference), reduction_indices=1)\n",
    "\n",
    "# Prediction : get nearest neighbor. \n",
    "pred = tf.arg_min(L1_dist, 0)\n",
    "\n",
    "accuracy = 0.\n",
    "init = tf.initialize_all_variables() # TODO: Forgot what this does...\n",
    "\n",
    "with tf.Session() as sess:\n",
    "    sess.run(init)\n",
    "    for i in range(len(_Xtest)):\n",
    "        feed_dict = {Xtrain: _Xtrain, Xtest: _Xtest[i, :]}\n",
    "        nearest_neighbor_index = sess.run(pred, feed_dict)\n",
    "        \n",
    "        label_train = np.argmax(_Ytrain[nearest_neighbor_index])\n",
    "        label_test  = np.argmax(_Ytest[i])\n",
    "        if label_train == label_test:\n",
    "            accuracy += 1. / len(_Xtest)\n",
    "\n",
    "    print \"Accuracy:\", accuracy"
   ]
  },
  {
   "cell_type": "markdown",
   "metadata": {},
   "source": [
    "# TFLearn - Quick Start"
   ]
  },
  {
   "cell_type": "code",
   "execution_count": 1,
   "metadata": {
    "collapsed": false
   },
   "outputs": [
    {
     "ename": "TypeError",
     "evalue": "variable_scope() got an unexpected keyword argument 'values'",
     "output_type": "error",
     "traceback": [
      "\u001b[0;31m---------------------------------------------------------------------------\u001b[0m",
      "\u001b[0;31mTypeError\u001b[0m                                 Traceback (most recent call last)",
      "\u001b[0;32m<ipython-input-1-7cf735d5f5dd>\u001b[0m in \u001b[0;36m<module>\u001b[0;34m()\u001b[0m\n\u001b[1;32m     32\u001b[0m \u001b[0;31m# Input --> FC --> FC --> SOFTMAX\u001b[0m\u001b[0;34m\u001b[0m\u001b[0;34m\u001b[0m\u001b[0m\n\u001b[1;32m     33\u001b[0m \u001b[0mnet\u001b[0m \u001b[0;34m=\u001b[0m \u001b[0mtflearn\u001b[0m\u001b[0;34m.\u001b[0m\u001b[0minput_data\u001b[0m\u001b[0;34m(\u001b[0m\u001b[0mshape\u001b[0m\u001b[0;34m=\u001b[0m\u001b[0;34m(\u001b[0m\u001b[0mNone\u001b[0m\u001b[0;34m,\u001b[0m \u001b[0;36m6\u001b[0m\u001b[0;34m)\u001b[0m\u001b[0;34m)\u001b[0m\u001b[0;34m\u001b[0m\u001b[0m\n\u001b[0;32m---> 34\u001b[0;31m \u001b[0mnet\u001b[0m \u001b[0;34m=\u001b[0m \u001b[0mtflearn\u001b[0m\u001b[0;34m.\u001b[0m\u001b[0mfully_connected\u001b[0m\u001b[0;34m(\u001b[0m\u001b[0mnet\u001b[0m\u001b[0;34m,\u001b[0m \u001b[0;36m32\u001b[0m\u001b[0;34m,\u001b[0m \u001b[0mreuse\u001b[0m\u001b[0;34m=\u001b[0m\u001b[0mFalse\u001b[0m\u001b[0;34m)\u001b[0m\u001b[0;34m\u001b[0m\u001b[0m\n\u001b[0m\u001b[1;32m     35\u001b[0m \u001b[0mnet\u001b[0m \u001b[0;34m=\u001b[0m \u001b[0mtflearn\u001b[0m\u001b[0;34m.\u001b[0m\u001b[0mfully_connected\u001b[0m\u001b[0;34m(\u001b[0m\u001b[0mnet\u001b[0m\u001b[0;34m,\u001b[0m \u001b[0;36m32\u001b[0m\u001b[0;34m)\u001b[0m\u001b[0;34m\u001b[0m\u001b[0m\n",
      "\u001b[0;32m/usr/local/lib/python2.7/dist-packages/tflearn/layers/core.pyc\u001b[0m in \u001b[0;36mfully_connected\u001b[0;34m(incoming, n_units, activation, bias, weights_init, bias_init, regularizer, weight_decay, trainable, restore, reuse, scope, name)\u001b[0m\n\u001b[1;32m    144\u001b[0m \u001b[0;34m\u001b[0m\u001b[0m\n\u001b[1;32m    145\u001b[0m     \u001b[0;31m# Build variables and inference.\u001b[0m\u001b[0;34m\u001b[0m\u001b[0;34m\u001b[0m\u001b[0m\n\u001b[0;32m--> 146\u001b[0;31m     \u001b[0;32mwith\u001b[0m \u001b[0mtf\u001b[0m\u001b[0;34m.\u001b[0m\u001b[0mvariable_scope\u001b[0m\u001b[0;34m(\u001b[0m\u001b[0mscope\u001b[0m\u001b[0;34m,\u001b[0m \u001b[0mname\u001b[0m\u001b[0;34m,\u001b[0m \u001b[0mvalues\u001b[0m\u001b[0;34m=\u001b[0m\u001b[0;34m[\u001b[0m\u001b[0mincoming\u001b[0m\u001b[0;34m]\u001b[0m\u001b[0;34m,\u001b[0m \u001b[0mreuse\u001b[0m\u001b[0;34m=\u001b[0m\u001b[0mreuse\u001b[0m\u001b[0;34m)\u001b[0m \u001b[0;32mas\u001b[0m \u001b[0mscope\u001b[0m\u001b[0;34m:\u001b[0m\u001b[0;34m\u001b[0m\u001b[0m\n\u001b[0m\u001b[1;32m    147\u001b[0m         \u001b[0mname\u001b[0m \u001b[0;34m=\u001b[0m \u001b[0mscope\u001b[0m\u001b[0;34m.\u001b[0m\u001b[0mname\u001b[0m\u001b[0;34m\u001b[0m\u001b[0m\n\u001b[1;32m    148\u001b[0m \u001b[0;34m\u001b[0m\u001b[0m\n",
      "\u001b[0;32m/usr/lib/python2.7/contextlib.pyc\u001b[0m in \u001b[0;36mhelper\u001b[0;34m(*args, **kwds)\u001b[0m\n\u001b[1;32m     82\u001b[0m     \u001b[0;34m@\u001b[0m\u001b[0mwraps\u001b[0m\u001b[0;34m(\u001b[0m\u001b[0mfunc\u001b[0m\u001b[0;34m)\u001b[0m\u001b[0;34m\u001b[0m\u001b[0m\n\u001b[1;32m     83\u001b[0m     \u001b[0;32mdef\u001b[0m \u001b[0mhelper\u001b[0m\u001b[0;34m(\u001b[0m\u001b[0;34m*\u001b[0m\u001b[0margs\u001b[0m\u001b[0;34m,\u001b[0m \u001b[0;34m**\u001b[0m\u001b[0mkwds\u001b[0m\u001b[0;34m)\u001b[0m\u001b[0;34m:\u001b[0m\u001b[0;34m\u001b[0m\u001b[0m\n\u001b[0;32m---> 84\u001b[0;31m         \u001b[0;32mreturn\u001b[0m \u001b[0mGeneratorContextManager\u001b[0m\u001b[0;34m(\u001b[0m\u001b[0mfunc\u001b[0m\u001b[0;34m(\u001b[0m\u001b[0;34m*\u001b[0m\u001b[0margs\u001b[0m\u001b[0;34m,\u001b[0m \u001b[0;34m**\u001b[0m\u001b[0mkwds\u001b[0m\u001b[0;34m)\u001b[0m\u001b[0;34m)\u001b[0m\u001b[0;34m\u001b[0m\u001b[0m\n\u001b[0m\u001b[1;32m     85\u001b[0m     \u001b[0;32mreturn\u001b[0m \u001b[0mhelper\u001b[0m\u001b[0;34m\u001b[0m\u001b[0m\n\u001b[1;32m     86\u001b[0m \u001b[0;34m\u001b[0m\u001b[0m\n",
      "\u001b[0;31mTypeError\u001b[0m: variable_scope() got an unexpected keyword argument 'values'"
     ]
    }
   ],
   "source": [
    "import numpy as np\n",
    "import tflearn\n",
    "import tensorflow as tf\n",
    "from tflearn.datasets import titanic\n",
    "\n",
    "data = titanic.download_dataset('titanic_dataset.csv')\n",
    "                                        \n",
    "from tflearn.data_utils import load_csv\n",
    "data, labels = load_csv('titanic_dataset.csv', \n",
    "                       target_column=0,\n",
    "                       categorical_labels=True,\n",
    "                       n_classes=2)\n",
    "\n",
    "# ___________ Data Preprocessing ___________\n",
    "\n",
    "def preprocess(data, columns_to_ignore):\n",
    "    \n",
    "    # Sort by descending id and delete columns. \n",
    "    for id in sorted(columns_to_ignore, reverse=True):\n",
    "        [r.pop(id) for r in data] \n",
    "    \n",
    "    for i in range(len(data)):\n",
    "        # Encode male=0, female=1. \n",
    "        data[i][1] = 1. if data[i][1] == 'female' else 0.\n",
    "    return np.array(data, dtype=np.float32)\n",
    "\n",
    "to_ignore = [1, 6]\n",
    "data = preprocess(data, to_ignore)\n",
    "\n",
    "\n",
    "# ___________ Build the DNN ___________\n",
    "# Input --> FC --> FC --> SOFTMAX\n",
    "net = tflearn.input_data(shape=(None, 6))\n",
    "net = tflearn.fully_connected(net, 32, reuse=False)\n",
    "net = tflearn.fully_connected(net, 32)"
   ]
  },
  {
   "cell_type": "code",
   "execution_count": 2,
   "metadata": {
    "collapsed": false
   },
   "outputs": [
    {
     "name": "stdout",
     "output_type": "stream",
     "text": [
      " fully_connected(incoming, n_units, activation='linear', bias=True,\n",
      "                 weights_init='truncated_normal', bias_init='zeros',\n",
      "                 regularizer=None, weight_decay=0.001, trainable=True,\n",
      "                 restore=True, reuse=False, scope=None,\n",
      "                 name='FullyConnected')\n",
      "\n",
      "Fully Connected.\n",
      "\n",
      "A fully connected layer.\n",
      "\n",
      "Input:\n",
      "    (2+)-D Tensor [samples, input dim]. If not 2D, input will be flatten.\n",
      "\n",
      "Output:\n",
      "    2D Tensor [samples, n_units].\n",
      "\n",
      "Arguments:\n",
      "    incoming: `Tensor`. Incoming (2+)D Tensor.\n",
      "    n_units: `int`, number of units for this layer.\n",
      "    activation: `str` (name) or `function` (returning a `Tensor`).\n",
      "        Activation applied to this layer (see tflearn.activations).\n",
      "        Default: 'linear'.\n",
      "    bias: `bool`. If True, a bias is used.\n",
      "    weights_init: `str` (name) or `Tensor`. Weights initialization.\n",
      "        (see tflearn.initializations) Default: 'truncated_normal'.\n",
      "    bias_init: `str` (name) or `Tensor`. Bias initialization.\n",
      "        (see tflearn.initializations) Default: 'zeros'.\n",
      "    regularizer: `str` (name) or `Tensor`. Add a regularizer to this\n",
      "        layer weights (see tflearn.regularizers). Default: None.\n",
      "    weight_decay: `float`. Regularizer decay parameter. Default: 0.001.\n",
      "    trainable: `bool`. If True, weights will be trainable.\n",
      "    restore: `bool`. If True, this layer weights will be restored when\n",
      "        loading a model.\n",
      "    reuse: `bool`. If True and 'scope' is provided, this layer variables\n",
      "        will be reused (shared).\n",
      "    scope: `str`. Define this layer scope (optional). A scope can be\n",
      "        used to share variables between layers. Note that scope will\n",
      "        override name.\n",
      "    name: A name for this layer (optional). Default: 'FullyConnected'.\n",
      "\n",
      "Attributes:\n",
      "    scope: `Scope`. This layer scope.\n",
      "    W: `Tensor`. Variable representing units weights.\n",
      "    b: `Tensor`. Variable representing biases.\n"
     ]
    }
   ],
   "source": [
    "\n",
    "\n",
    "np.info(tflearn.fully_connected)\n",
    "\n",
    "\n",
    "\n",
    "\n",
    "\n",
    "\n",
    "\n",
    "\n",
    "\n",
    "\n",
    "\n",
    "\n",
    "\n",
    "\n",
    "\n",
    "\n",
    "\n",
    "\n",
    "\n"
   ]
  },
  {
   "cell_type": "code",
   "execution_count": null,
   "metadata": {
    "collapsed": true
   },
   "outputs": [],
   "source": []
  }
 ],
 "metadata": {
  "kernelspec": {
   "display_name": "Python 2",
   "language": "python",
   "name": "python2"
  },
  "language_info": {
   "codemirror_mode": {
    "name": "ipython",
    "version": 2
   },
   "file_extension": ".py",
   "mimetype": "text/x-python",
   "name": "python",
   "nbconvert_exporter": "python",
   "pygments_lexer": "ipython2",
   "version": "2.7.11+"
  }
 },
 "nbformat": 4,
 "nbformat_minor": 1
}
